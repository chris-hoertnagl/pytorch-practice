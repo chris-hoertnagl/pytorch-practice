{
  "cells": [
    {
      "cell_type": "code",
      "execution_count": 2,
      "metadata": {
        "id": "wABsluHLv7hE"
      },
      "outputs": [],
      "source": [
        "import numpy as np\n",
        "import pandas as pd\n",
        "import torch\n",
        "import torch.nn as nn\n",
        "import torchvision\n",
        "import torchvision.transforms as transforms\n",
        "import matplotlib.pyplot as plt\n",
        "import seaborn\n",
        "\n",
        "# device config\n",
        "device = torch.device('cuda' if torch.cuda.is_available() else 'cpu')"
      ]
    },
    {
      "cell_type": "code",
      "execution_count": 3,
      "metadata": {},
      "outputs": [],
      "source": [
        "############## TENSORBOARD ########################\n",
        "import sys\n",
        "import torch.nn.functional as F\n",
        "from torch.utils.tensorboard import SummaryWriter\n",
        "# default `log_dir` is \"runs\" - we'll be more specific here\n",
        "writer = SummaryWriter('runs/mnist1')\n",
        "###################################################"
      ]
    },
    {
      "cell_type": "code",
      "execution_count": 4,
      "metadata": {
        "id": "sLMpTNkXxODs"
      },
      "outputs": [],
      "source": [
        "# hyper parameters\n",
        "input_size = 784 # 28 x 28\n",
        "hidden_size = 100\n",
        "num_classes = 10\n",
        "num_epochs = 2\n",
        "batch_size = 100\n",
        "learning_rate = 0.001"
      ]
    },
    {
      "cell_type": "markdown",
      "metadata": {
        "id": "GP_jfCuzv7hG"
      },
      "source": [
        "# Data Loader and Transformation"
      ]
    },
    {
      "cell_type": "code",
      "execution_count": 5,
      "metadata": {
        "id": "qJ5Ni2LNv7hI"
      },
      "outputs": [
        {
          "name": "stdout",
          "output_type": "stream",
          "text": [
            "Downloading http://yann.lecun.com/exdb/mnist/train-images-idx3-ubyte.gz\n"
          ]
        },
        {
          "name": "stderr",
          "output_type": "stream",
          "text": [
            "8.3%"
          ]
        },
        {
          "name": "stdout",
          "output_type": "stream",
          "text": [
            "Downloading http://yann.lecun.com/exdb/mnist/train-images-idx3-ubyte.gz to ./data\\MNIST\\raw\\train-images-idx3-ubyte.gz\n"
          ]
        },
        {
          "name": "stderr",
          "output_type": "stream",
          "text": [
            "100.0%\n"
          ]
        },
        {
          "name": "stdout",
          "output_type": "stream",
          "text": [
            "Extracting ./data\\MNIST\\raw\\train-images-idx3-ubyte.gz to ./data\\MNIST\\raw\n"
          ]
        },
        {
          "name": "stderr",
          "output_type": "stream",
          "text": [
            "100.0%"
          ]
        },
        {
          "name": "stdout",
          "output_type": "stream",
          "text": [
            "\n",
            "Downloading http://yann.lecun.com/exdb/mnist/train-labels-idx1-ubyte.gz\n",
            "Downloading http://yann.lecun.com/exdb/mnist/train-labels-idx1-ubyte.gz to ./data\\MNIST\\raw\\train-labels-idx1-ubyte.gz\n",
            "Extracting ./data\\MNIST\\raw\\train-labels-idx1-ubyte.gz to ./data\\MNIST\\raw\n",
            "\n",
            "Downloading http://yann.lecun.com/exdb/mnist/t10k-images-idx3-ubyte.gz\n",
            "Downloading http://yann.lecun.com/exdb/mnist/t10k-images-idx3-ubyte.gz to ./data\\MNIST\\raw\\t10k-images-idx3-ubyte.gz\n"
          ]
        },
        {
          "name": "stderr",
          "output_type": "stream",
          "text": [
            "\n",
            "100.0%\n"
          ]
        },
        {
          "name": "stdout",
          "output_type": "stream",
          "text": [
            "Extracting ./data\\MNIST\\raw\\t10k-images-idx3-ubyte.gz to ./data\\MNIST\\raw\n",
            "\n",
            "Downloading http://yann.lecun.com/exdb/mnist/t10k-labels-idx1-ubyte.gz\n",
            "Downloading http://yann.lecun.com/exdb/mnist/t10k-labels-idx1-ubyte.gz to ./data\\MNIST\\raw\\t10k-labels-idx1-ubyte.gz\n"
          ]
        },
        {
          "name": "stderr",
          "output_type": "stream",
          "text": [
            "100.0%"
          ]
        },
        {
          "name": "stdout",
          "output_type": "stream",
          "text": [
            "Extracting ./data\\MNIST\\raw\\t10k-labels-idx1-ubyte.gz to ./data\\MNIST\\raw\n",
            "\n"
          ]
        },
        {
          "name": "stderr",
          "output_type": "stream",
          "text": [
            "\n"
          ]
        }
      ],
      "source": [
        "# MNIST\n",
        "train_dataset = torchvision.datasets.MNIST(root='./data', train=True, transform=transforms.ToTensor(), download=True)\n",
        "test_dataset = torchvision.datasets.MNIST(root='./data', train=False, transform=transforms.ToTensor())\n",
        "\n",
        "train_loader = torch.utils.data.DataLoader(dataset=train_dataset, batch_size=batch_size, shuffle=True)\n",
        "test_loader = torch.utils.data.DataLoader(dataset=test_dataset, batch_size=batch_size, shuffle=True)"
      ]
    },
    {
      "cell_type": "code",
      "execution_count": 6,
      "metadata": {
        "colab": {
          "base_uri": "https://localhost:8080/"
        },
        "id": "TAtMy-cdyJCx",
        "outputId": "6964f52b-161d-4382-b918-d66d3ba82649"
      },
      "outputs": [
        {
          "name": "stdout",
          "output_type": "stream",
          "text": [
            "samples shape: torch.Size([100, 1, 28, 28]), labels shape: torch.Size([100])\n"
          ]
        }
      ],
      "source": [
        "examples = iter(train_loader)\n",
        "samples, labels = examples.next()\n",
        "print(f'samples shape: {samples.shape}, labels shape: {labels.shape}')"
      ]
    },
    {
      "cell_type": "code",
      "execution_count": 7,
      "metadata": {
        "colab": {
          "base_uri": "https://localhost:8080/",
          "height": 284
        },
        "id": "-hpi6IudyoiH",
        "outputId": "6ec63c2e-9087-4415-be2c-5f42cae635cf"
      },
      "outputs": [
        {
          "data": {
            "text/plain": [
              "<function matplotlib.pyplot.show(close=None, block=None)>"
            ]
          },
          "execution_count": 7,
          "metadata": {},
          "output_type": "execute_result"
        },
        {
          "data": {
            "image/png": "[encoded data removed]",
            "text/plain": [
              "<Figure size 640x480 with 6 Axes>"
            ]
          },
          "metadata": {},
          "output_type": "display_data"
        }
      ],
      "source": [
        "for i in range(6):\n",
        "  plt.subplot(2, 3, i+1)\n",
        "  plt.imshow(samples[i][0], cmap='Greys')\n",
        "plt.show"
      ]
    },
    {
      "cell_type": "code",
      "execution_count": 8,
      "metadata": {},
      "outputs": [],
      "source": [
        "############## TENSORBOARD ########################\n",
        "img_grid = torchvision.utils.make_grid(samples)\n",
        "writer.add_image('mnist_images', img_grid)\n",
        "#writer.close()\n",
        "#sys.exit()\n",
        "###################################################"
      ]
    },
    {
      "cell_type": "markdown",
      "metadata": {
        "id": "Q_aNHNLiw3j9"
      },
      "source": [
        "# Multilayer NN"
      ]
    },
    {
      "cell_type": "code",
      "execution_count": 9,
      "metadata": {
        "id": "2Hq2qDhHw6lV"
      },
      "outputs": [],
      "source": [
        "class NeuralNet(nn.Module):\n",
        "  def __init__(self, input_size, hidden_size, num_classes):\n",
        "    super(NeuralNet, self).__init__()\n",
        "\n",
        "    self.l1 = nn.Linear(input_size, hidden_size)\n",
        "    self.relu = nn.ReLU()\n",
        "    self.l2 = nn.Linear(hidden_size, num_classes)\n",
        "  \n",
        "  def forward(self, x):\n",
        "    out = self.l1(x)\n",
        "    out = self.relu(out)\n",
        "    out = self.l2(out)\n",
        "    return out\n",
        "\n",
        "model = NeuralNet(input_size, hidden_size, num_classes)"
      ]
    },
    {
      "cell_type": "code",
      "execution_count": 10,
      "metadata": {
        "id": "oCCNk4UVz4qi"
      },
      "outputs": [],
      "source": [
        "# loss and optimizer\n",
        "criterion = nn.CrossEntropyLoss()\n",
        "optimizer = torch.optim.Adam(model.parameters(), lr=learning_rate)"
      ]
    },
    {
      "cell_type": "code",
      "execution_count": 11,
      "metadata": {},
      "outputs": [],
      "source": [
        "############## TENSORBOARD ########################\n",
        "writer.add_graph(model, samples.reshape(-1, 28*28))\n",
        "#writer.close()\n",
        "#sys.exit()\n",
        "###################################################"
      ]
    },
    {
      "cell_type": "code",
      "execution_count": 19,
      "metadata": {
        "colab": {
          "base_uri": "https://localhost:8080/"
        },
        "id": "2GCHuiYo0H_-",
        "outputId": "c9b11119-c701-4117-ec00-8cdbceccd3ea"
      },
      "outputs": [
        {
          "name": "stdout",
          "output_type": "stream",
          "text": [
            "epoch 1 / 2, step 100 / 600, loss 0.112420\n",
            "epoch 1 / 2, step 200 / 600, loss 0.103714\n",
            "epoch 1 / 2, step 300 / 600, loss 0.085994\n",
            "epoch 1 / 2, step 400 / 600, loss 0.130033\n",
            "epoch 1 / 2, step 500 / 600, loss 0.065460\n",
            "epoch 1 / 2, step 600 / 600, loss 0.123872\n",
            "epoch 2 / 2, step 100 / 600, loss 0.067153\n",
            "epoch 2 / 2, step 200 / 600, loss 0.034333\n",
            "epoch 2 / 2, step 300 / 600, loss 0.032351\n",
            "epoch 2 / 2, step 400 / 600, loss 0.028324\n",
            "epoch 2 / 2, step 500 / 600, loss 0.028717\n",
            "epoch 2 / 2, step 600 / 600, loss 0.064125\n"
          ]
        }
      ],
      "source": [
        "# training loop\n",
        "n_total_steps = len(train_loader)\n",
        "running_loss = 0\n",
        "running_correct_preds = 0\n",
        "for epoch in range(num_epochs):\n",
        "  for i, (images, labels) in enumerate(train_loader):\n",
        "    images = images.reshape(-1, 28*28).to(device)\n",
        "    labels = labels.to(device)\n",
        "\n",
        "    #forward\n",
        "    outputs = model(images)\n",
        "    loss = criterion(outputs, labels)\n",
        "    #backwards\n",
        "    optimizer.zero_grad()\n",
        "    loss.backward()\n",
        "    optimizer.step()\n",
        "\n",
        "    running_loss += loss.item()\n",
        "    \n",
        "    _, predictions = torch.max(outputs, 1)\n",
        "    running_correct_preds += (predictions == labels).sum().item()\n",
        "    if (i+1) % 100 == 0:\n",
        "      print(f'epoch {epoch + 1} / {num_epochs}, step {i+1} / {n_total_steps}, loss {loss.item():4f}')\n",
        "      writer.add_scalar('training loss', running_loss / 100, epoch * n_total_steps + i)\n",
        "      writer.add_scalar('accuracy', running_correct_preds / 100, epoch * n_total_steps + i)\n",
        "      running_loss = 0.0\n",
        "      running_correct_preds = 0"
      ]
    },
    {
      "cell_type": "code",
      "execution_count": 17,
      "metadata": {
        "colab": {
          "base_uri": "https://localhost:8080/"
        },
        "id": "SZlvH4sN1WBC",
        "outputId": "1d339cfa-5eed-4dd4-f299-aa1388d01a15"
      },
      "outputs": [
        {
          "name": "stdout",
          "output_type": "stream",
          "text": [
            "96.73\n"
          ]
        }
      ],
      "source": [
        "# test\n",
        "class_labels = []\n",
        "class_preds = []\n",
        "with torch.no_grad():\n",
        "  n_correct = 0\n",
        "  n_samples = 0\n",
        "  for images, labels in test_loader:\n",
        "    images = images.reshape(-1, 28*28).to(device)\n",
        "    labels = labels.to(device)\n",
        "    outputs = model(images)\n",
        "\n",
        "    # value, index\n",
        "    _, predictions = torch.max(outputs, 1)\n",
        "    n_samples += labels.shape[0]\n",
        "    n_correct += (predictions == labels).sum().item()\n",
        "\n",
        "    class_probs_batch = [F.softmax(output, dim=0) for output in outputs]\n",
        "    class_preds.append(class_probs_batch)\n",
        "    class_labels.append(predictions)\n",
        "  \n",
        "  # 10000, 10, and 10000, 1\n",
        "  # stack concatenates tensors along a new dimension\n",
        "  # cat concatenates tensors in the given dimension\n",
        "  class_preds = torch.cat([torch.stack(batch) for batch in class_preds])\n",
        "  class_labels = torch.cat(class_labels)\n",
        "\n",
        "  acc = 100.0 * n_correct / n_samples\n",
        "  print(acc)"
      ]
    },
    {
      "cell_type": "code",
      "execution_count": 18,
      "metadata": {
        "id": "SLJQfmw6WuHM"
      },
      "outputs": [],
      "source": [
        "############## TENSORBOARD ########################\n",
        "classes = range(10)\n",
        "for i in classes:\n",
        "    labels_i = class_labels == i\n",
        "    preds_i = class_preds[:, i]\n",
        "    writer.add_pr_curve(str(i), labels_i, preds_i, global_step=0)\n",
        "    writer.close()\n",
        "###################################################"
      ]
    }
  ],
  "metadata": {
    "colab": {
      "provenance": []
    },
    "kernelspec": {
      "display_name": "Python 3.10.7 ('env': venv)",
      "language": "python",
      "name": "python3"
    },
    "language_info": {
      "codemirror_mode": {
        "name": "ipython",
        "version": 3
      },
      "file_extension": ".py",
      "mimetype": "text/x-python",
      "name": "python",
      "nbconvert_exporter": "python",
      "pygments_lexer": "ipython3",
      "version": "3.10.7"
    },
    "orig_nbformat": 4,
    "vscode": {
      "interpreter": {
        "hash": "1b6f5d1c3b2559c63ecf48cf60a0276dd3f5693279fc8acedc2bc58621bfe26c"
      }
    }
  },
  "nbformat": 4,
  "nbformat_minor": 0
}
